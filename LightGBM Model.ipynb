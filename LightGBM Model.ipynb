{
 "cells": [
  {
   "cell_type": "code",
   "execution_count": 1,
   "metadata": {},
   "outputs": [],
   "source": [
    "import pandas as pd\n",
    "import seaborn as sns\n",
    "import matplotlib.pyplot as plt\n",
    "from sklearn import preprocessing\n",
    "from sklearn.model_selection import train_test_split, GridSearchCV\n",
    "from sklearn.metrics import accuracy_score\n",
    "from lightgbm import LGBMClassifier\n",
    "from warnings import filterwarnings\n",
    "filterwarnings(\"ignore\")"
   ]
  },
  {
   "cell_type": "code",
   "execution_count": 2,
   "metadata": {},
   "outputs": [
    {
     "data": {
      "text/html": [
       "<div>\n",
       "<style scoped>\n",
       "    .dataframe tbody tr th:only-of-type {\n",
       "        vertical-align: middle;\n",
       "    }\n",
       "\n",
       "    .dataframe tbody tr th {\n",
       "        vertical-align: top;\n",
       "    }\n",
       "\n",
       "    .dataframe thead th {\n",
       "        text-align: right;\n",
       "    }\n",
       "</style>\n",
       "<table border=\"1\" class=\"dataframe\">\n",
       "  <thead>\n",
       "    <tr style=\"text-align: right;\">\n",
       "      <th></th>\n",
       "      <th>calorie</th>\n",
       "      <th>water</th>\n",
       "      <th>carbohydrate</th>\n",
       "      <th>fiber</th>\n",
       "      <th>sugar</th>\n",
       "      <th>protein</th>\n",
       "      <th>fat</th>\n",
       "      <th>sfat</th>\n",
       "      <th>cholesterol</th>\n",
       "      <th>sodium</th>\n",
       "      <th>...</th>\n",
       "      <th>iron</th>\n",
       "      <th>folat</th>\n",
       "      <th>pantotenik</th>\n",
       "      <th>fosfor</th>\n",
       "      <th>magnesium</th>\n",
       "      <th>cinko</th>\n",
       "      <th>copper</th>\n",
       "      <th>selenium</th>\n",
       "      <th>manganese</th>\n",
       "      <th>Class</th>\n",
       "    </tr>\n",
       "  </thead>\n",
       "  <tbody>\n",
       "    <tr>\n",
       "      <th>0</th>\n",
       "      <td>717</td>\n",
       "      <td>17.94</td>\n",
       "      <td>0.06</td>\n",
       "      <td>0</td>\n",
       "      <td>0.06</td>\n",
       "      <td>0.85</td>\n",
       "      <td>81.11</td>\n",
       "      <td>51.368</td>\n",
       "      <td>215</td>\n",
       "      <td>11.00</td>\n",
       "      <td>...</td>\n",
       "      <td>0.02</td>\n",
       "      <td>3</td>\n",
       "      <td>0.11</td>\n",
       "      <td>24</td>\n",
       "      <td>2</td>\n",
       "      <td>0.09</td>\n",
       "      <td>16</td>\n",
       "      <td>1</td>\n",
       "      <td>4</td>\n",
       "      <td>Hayvansal</td>\n",
       "    </tr>\n",
       "    <tr>\n",
       "      <th>1</th>\n",
       "      <td>116</td>\n",
       "      <td>76.78</td>\n",
       "      <td>0</td>\n",
       "      <td>0</td>\n",
       "      <td>0</td>\n",
       "      <td>19.41</td>\n",
       "      <td>3.71</td>\n",
       "      <td>94.900.000</td>\n",
       "      <td>89</td>\n",
       "      <td>114.00</td>\n",
       "      <td>...</td>\n",
       "      <td>0.76</td>\n",
       "      <td>4</td>\n",
       "      <td>1.1</td>\n",
       "      <td>174</td>\n",
       "      <td>20</td>\n",
       "      <td>02.05</td>\n",
       "      <td>66</td>\n",
       "      <td>21.8</td>\n",
       "      <td>14</td>\n",
       "      <td>Hayvansal</td>\n",
       "    </tr>\n",
       "    <tr>\n",
       "      <th>2</th>\n",
       "      <td>75</td>\n",
       "      <td>79.53</td>\n",
       "      <td>17.99</td>\n",
       "      <td>4.9</td>\n",
       "      <td>4.8</td>\n",
       "      <td>1.2</td>\n",
       "      <td>0.3</td>\n",
       "      <td>0.05</td>\n",
       "      <td>0</td>\n",
       "      <td>10.00</td>\n",
       "      <td>...</td>\n",
       "      <td>0.59</td>\n",
       "      <td>67</td>\n",
       "      <td>60.000.000</td>\n",
       "      <td>71</td>\n",
       "      <td>29</td>\n",
       "      <td>0.59</td>\n",
       "      <td>0.12</td>\n",
       "      <td>1.8</td>\n",
       "      <td>56.000.000</td>\n",
       "      <td>Bitkisel</td>\n",
       "    </tr>\n",
       "    <tr>\n",
       "      <th>3</th>\n",
       "      <td>132.46</td>\n",
       "      <td>73.13</td>\n",
       "      <td>12.46</td>\n",
       "      <td>1.59</td>\n",
       "      <td>1.59</td>\n",
       "      <td>6.37</td>\n",
       "      <td>6.57</td>\n",
       "      <td>2.23</td>\n",
       "      <td>22.57</td>\n",
       "      <td>320.48</td>\n",
       "      <td>...</td>\n",
       "      <td>0.98</td>\n",
       "      <td>15.53</td>\n",
       "      <td>0.39</td>\n",
       "      <td>79.5</td>\n",
       "      <td>21.38</td>\n",
       "      <td>1.36</td>\n",
       "      <td>0.15</td>\n",
       "      <td>5.2</td>\n",
       "      <td>0.24</td>\n",
       "      <td>Mix</td>\n",
       "    </tr>\n",
       "    <tr>\n",
       "      <th>4</th>\n",
       "      <td>103.29</td>\n",
       "      <td>79.04</td>\n",
       "      <td>04.01</td>\n",
       "      <td>01.07</td>\n",
       "      <td>2.38</td>\n",
       "      <td>11.47</td>\n",
       "      <td>4.53</td>\n",
       "      <td>0.77</td>\n",
       "      <td>28.62</td>\n",
       "      <td>316.43</td>\n",
       "      <td>...</td>\n",
       "      <td>0.71</td>\n",
       "      <td>15.6</td>\n",
       "      <td>0.4</td>\n",
       "      <td>78.47</td>\n",
       "      <td>16.49</td>\n",
       "      <td>0.46</td>\n",
       "      <td>0.05</td>\n",
       "      <td>8.5</td>\n",
       "      <td>0.1</td>\n",
       "      <td>Hayvansal</td>\n",
       "    </tr>\n",
       "  </tbody>\n",
       "</table>\n",
       "<p>5 rows × 32 columns</p>\n",
       "</div>"
      ],
      "text/plain": [
       "  calorie  water carbohydrate  fiber sugar protein    fat        sfat  \\\n",
       "0     717  17.94         0.06      0  0.06    0.85  81.11      51.368   \n",
       "1     116  76.78            0      0     0   19.41   3.71  94.900.000   \n",
       "2      75  79.53        17.99    4.9   4.8     1.2    0.3        0.05   \n",
       "3  132.46  73.13        12.46   1.59  1.59    6.37   6.57        2.23   \n",
       "4  103.29  79.04        04.01  01.07  2.38   11.47   4.53        0.77   \n",
       "\n",
       "  cholesterol  sodium  ...  iron  folat  pantotenik fosfor  magnesium  cinko  \\\n",
       "0         215   11.00  ...  0.02      3        0.11     24          2   0.09   \n",
       "1          89  114.00  ...  0.76      4         1.1    174         20  02.05   \n",
       "2           0   10.00  ...  0.59     67  60.000.000     71         29   0.59   \n",
       "3       22.57  320.48  ...  0.98  15.53        0.39   79.5      21.38   1.36   \n",
       "4       28.62  316.43  ...  0.71   15.6         0.4  78.47      16.49   0.46   \n",
       "\n",
       "  copper selenium   manganese      Class  \n",
       "0     16        1           4  Hayvansal  \n",
       "1     66     21.8          14  Hayvansal  \n",
       "2   0.12      1.8  56.000.000   Bitkisel  \n",
       "3   0.15      5.2        0.24        Mix  \n",
       "4   0.05      8.5         0.1  Hayvansal  \n",
       "\n",
       "[5 rows x 32 columns]"
      ]
     },
     "execution_count": 2,
     "metadata": {},
     "output_type": "execute_result"
    }
   ],
   "source": [
    "train = pd.read_csv(\"train.csv\").drop(\"ID\", axis = 1)\n",
    "test = pd.read_csv(\"test.csv\").drop(\"ID\", axis = 1)\n",
    "train.head()"
   ]
  },
  {
   "cell_type": "code",
   "execution_count": 3,
   "metadata": {},
   "outputs": [
    {
     "data": {
      "text/plain": [
       "calorie         0\n",
       "water           0\n",
       "carbohydrate    0\n",
       "fiber           0\n",
       "sugar           0\n",
       "protein         0\n",
       "fat             0\n",
       "sfat            0\n",
       "cholesterol     0\n",
       "sodium          0\n",
       "potassium       0\n",
       "calcium         0\n",
       "vit_A           0\n",
       "vit_C           0\n",
       "vit_D           0\n",
       "vit_E           0\n",
       "vit_K           0\n",
       "vit_B6          0\n",
       "vit_B12         0\n",
       "thiamin         0\n",
       "riboflavin      0\n",
       "niacin          0\n",
       "iron            0\n",
       "folat           0\n",
       "pantotenik      0\n",
       "fosfor          0\n",
       "magnesium       0\n",
       "cinko           0\n",
       "copper          0\n",
       "selenium        0\n",
       "manganese       0\n",
       "dtype: int64"
      ]
     },
     "execution_count": 3,
     "metadata": {},
     "output_type": "execute_result"
    }
   ],
   "source": [
    "test.isnull().sum()"
   ]
  },
  {
   "cell_type": "code",
   "execution_count": 4,
   "metadata": {},
   "outputs": [
    {
     "data": {
      "text/plain": [
       "array([1, 0, 2])"
      ]
     },
     "execution_count": 4,
     "metadata": {},
     "output_type": "execute_result"
    }
   ],
   "source": [
    "label_encoder = preprocessing.LabelEncoder() \n",
    "\n",
    "train[\"Class\"] = label_encoder.fit_transform(train[\"Class\"]) \n",
    "train[\"Class\"].unique()"
   ]
  },
  {
   "cell_type": "code",
   "execution_count": 5,
   "metadata": {},
   "outputs": [],
   "source": [
    "columns = train.columns[:-1]\n",
    "for col in columns:\n",
    "    train[col] = pd.to_numeric(train[col], errors = \"coerce\")\n",
    "    \n",
    "columns = test.columns\n",
    "for col in columns:\n",
    "    test[col] = pd.to_numeric(test[col], errors = \"coerce\")"
   ]
  },
  {
   "cell_type": "code",
   "execution_count": 6,
   "metadata": {},
   "outputs": [],
   "source": [
    "columns = train.columns[:-1]\n",
    "for col in columns:\n",
    "    train[col] = train[col].fillna(train[col].mean())\n",
    "    \n",
    "columns = test.columns\n",
    "for col in columns:\n",
    "    test[col] = test[col].fillna(test[col].mean())"
   ]
  },
  {
   "cell_type": "code",
   "execution_count": 7,
   "metadata": {},
   "outputs": [],
   "source": [
    "X = train.drop(\"Class\", axis = 1)\n",
    "y = train[\"Class\"]\n",
    "X_train, X_test, y_train, y_test = train_test_split(X, y, test_size = 0.20, random_state = 42)"
   ]
  },
  {
   "cell_type": "code",
   "execution_count": 8,
   "metadata": {},
   "outputs": [
    {
     "data": {
      "text/plain": [
       "0.77"
      ]
     },
     "execution_count": 8,
     "metadata": {},
     "output_type": "execute_result"
    }
   ],
   "source": [
    "model = LGBMClassifier().fit(X_train, y_train)\n",
    "y_pred = model.predict(X_test)\n",
    "accuracy_score(y_test, y_pred)"
   ]
  },
  {
   "cell_type": "code",
   "execution_count": 9,
   "metadata": {},
   "outputs": [
    {
     "name": "stdout",
     "output_type": "stream",
     "text": [
      "Fitting 10 folds for each of 270 candidates, totalling 2700 fits\n"
     ]
    },
    {
     "name": "stderr",
     "output_type": "stream",
     "text": [
      "[Parallel(n_jobs=-1)]: Using backend LokyBackend with 12 concurrent workers.\n",
      "[Parallel(n_jobs=-1)]: Done  17 tasks      | elapsed:    2.4s\n",
      "[Parallel(n_jobs=-1)]: Done 138 tasks      | elapsed:   13.7s\n",
      "[Parallel(n_jobs=-1)]: Done 341 tasks      | elapsed:  1.0min\n",
      "[Parallel(n_jobs=-1)]: Done 624 tasks      | elapsed:  3.6min\n",
      "[Parallel(n_jobs=-1)]: Done 989 tasks      | elapsed:  6.6min\n",
      "[Parallel(n_jobs=-1)]: Done 1434 tasks      | elapsed:  8.7min\n",
      "[Parallel(n_jobs=-1)]: Done 1961 tasks      | elapsed: 12.6min\n",
      "[Parallel(n_jobs=-1)]: Done 2568 tasks      | elapsed: 15.9min\n",
      "[Parallel(n_jobs=-1)]: Done 2700 out of 2700 | elapsed: 16.8min finished\n"
     ]
    },
    {
     "name": "stdout",
     "output_type": "stream",
     "text": [
      "[LightGBM] [Warning] Accuracy may be bad since you didn't set num_leaves and 2^max_depth > num_leaves\n"
     ]
    }
   ],
   "source": [
    "params = {\"learning_rate\" : [0.001, 0.01, 0.1],\n",
    "          \"n_estimators\" : [100, 200, 300, 400, 500, 600, 700, 800, 900, 1000],\n",
    "          \"max_depth\" : [2, 3, 4, 5, 6, 7, 8, 9, 10]}\n",
    "\n",
    "model = LGBMClassifier()\n",
    "model_cv = GridSearchCV(model, params, cv = 10, n_jobs = -1, verbose = 2).fit(X_train, y_train)"
   ]
  },
  {
   "cell_type": "code",
   "execution_count": 10,
   "metadata": {},
   "outputs": [
    {
     "data": {
      "text/plain": [
       "{'learning_rate': 0.1, 'max_depth': 9, 'n_estimators': 300}"
      ]
     },
     "execution_count": 10,
     "metadata": {},
     "output_type": "execute_result"
    }
   ],
   "source": [
    "model_cv.best_params_"
   ]
  },
  {
   "cell_type": "code",
   "execution_count": 11,
   "metadata": {},
   "outputs": [
    {
     "data": {
      "text/plain": [
       "0.768"
      ]
     },
     "execution_count": 11,
     "metadata": {},
     "output_type": "execute_result"
    }
   ],
   "source": [
    "model_tuned = LGBMClassifier(learning_rate = 0.1, max_depth = 9, n_estimators = 300).fit(X_train, y_train)\n",
    "y_pred = model_tuned.predict(X_test)\n",
    "accuracy_score(y_test, y_pred)"
   ]
  },
  {
   "cell_type": "code",
   "execution_count": 12,
   "metadata": {},
   "outputs": [
    {
     "data": {
      "text/plain": [
       "Text(0, 0.5, 'Değişkenler')"
      ]
     },
     "execution_count": 12,
     "metadata": {},
     "output_type": "execute_result"
    },
    {
     "data": {
      "image/png": "[encoded data removed]",
      "text/plain": [
       "<Figure size 432x288 with 1 Axes>"
      ]
     },
     "metadata": {
      "needs_background": "light"
     },
     "output_type": "display_data"
    }
   ],
   "source": [
    "feature_imp = pd.Series(model_tuned.feature_importances_, index = X_train.columns).sort_values(ascending = False)\n",
    "sns.barplot(x = feature_imp, y = feature_imp.index)\n",
    "plt.title(\"Değişken Önem Düzeyleri\")\n",
    "plt.xlabel(\"Değişken Önem Skorları\")\n",
    "plt.ylabel(\"Değişkenler\")"
   ]
  },
  {
   "cell_type": "code",
   "execution_count": null,
   "metadata": {},
   "outputs": [],
   "source": []
  }
 ],
 "metadata": {
  "kernelspec": {
   "display_name": "Python 3",
   "language": "python",
   "name": "python3"
  },
  "language_info": {
   "codemirror_mode": {
    "name": "ipython",
    "version": 3
   },
   "file_extension": ".py",
   "mimetype": "text/x-python",
   "name": "python",
   "nbconvert_exporter": "python",
   "pygments_lexer": "ipython3",
   "version": "3.8.3"
  }
 },
 "nbformat": 4,
 "nbformat_minor": 4
}
